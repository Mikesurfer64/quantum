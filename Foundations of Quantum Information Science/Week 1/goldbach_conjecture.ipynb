{
 "cells": [
  {
   "cell_type": "code",
   "execution_count": null,
   "metadata": {},
   "outputs": [
    {
     "name": "stdout",
     "output_type": "stream",
     "text": [
      "[ 3  5  7 11 13 17 19 23 29 31]\n",
      "[463 467 479 487 491 499 503 509 521 523]\n"
     ]
    }
   ],
   "source": [
    "\"\"\"goldbach_conjecture.ipynb\"\"\"\n",
    "\n",
    "# Cell 01\n",
    "\n",
    "#sum of two odd primes is equal to an even integer > 4\n",
    "\n",
    "import numpy as np\n",
    "from sympy import prime  #generates primes\n",
    "\n",
    "test_limit = 100 #nth prime we go upto\n",
    "\n",
    "# Use a list comprehension to create an array of the first 'n' ODD primes\n",
    "primes = np.array([prime(n) for n in range(2, test_limit)]) # list comprehesion, read backwards inside out\n",
    "# 2nd prime starting, upto 99th prime\n",
    "\n",
    "print(primes[:10]) #slicing syntax [start=0: stop=len(): step=1]\n",
    "print(primes[-10:]) #negative indexes are relative to the right (end), # no stop values, python assume length to the end size-1"
   ]
  },
  {
   "cell_type": "code",
   "execution_count": null,
   "metadata": {},
   "outputs": [
    {
     "name": "stdout",
     "output_type": "stream",
     "text": [
      "4851\n"
     ]
    },
    {
     "data": {
      "text/plain": [
       "[((3, 3), (5, 5), (7, 7)),\n",
       " ((3, 5), (5, 7), (7, 11)),\n",
       " ((3, 7), (5, 11), (7, 13)),\n",
       " ((3, 11), (5, 13), (7, 17)),\n",
       " ((3, 13), (5, 17), (7, 19))]"
      ]
     },
     "execution_count": 2,
     "metadata": {},
     "output_type": "execute_result"
    }
   ],
   "source": [
    "# Cell 02 - Generate all pairs of primes (with repetition)\n",
    "\n",
    "from itertools import combinations_with_replacement\n",
    "\n",
    "prime_pairs = [*combinations_with_replacement(primes, 2)]\n",
    "#asterisk above with iterator will call this until it's complete\n",
    "print(len(prime_pairs))\n",
    "\n",
    "[*zip(prime_pairs[:5], prime_pairs[98:], prime_pairs[195:])]\n",
    "#slicing syntax, three slices (lists) - given 0,4 in 1st slice (1st column), 2d list of rows and columns, places together two columns"
   ]
  },
  {
   "cell_type": "code",
   "execution_count": null,
   "metadata": {},
   "outputs": [
    {
     "name": "stdout",
     "output_type": "stream",
     "text": [
      "[ 6  8 10 12 14 16 18 20 22 24]\n",
      "[1018 1020 1022 1024 1026 1030 1032 1042 1044 1046]\n"
     ]
    }
   ],
   "source": [
    "# Cell 03 - Create a sorted array containing the unique sums of each prime pairs\n",
    "\n",
    "summed_pairs = np.sort(np.unique(np.array([sum(pair) for pair in prime_pairs])))\n",
    "#read from inside out, sum prime pairs 1st, create array, need only one pair that adds to #, for every even int, then sort\n",
    "print(summed_pairs[:10]) #1st 10\n",
    "print(summed_pairs[-10:]) # last 10"
   ]
  },
  {
   "cell_type": "code",
   "execution_count": 4,
   "metadata": {},
   "outputs": [
    {
     "name": "stdout",
     "output_type": "stream",
     "text": [
      "Number of Goldbach violations up to 900: 0\n"
     ]
    }
   ],
   "source": [
    "# Cell 04\n",
    "\n",
    "\"\"\"\n",
    "Determine which EVEN integers from 6 to 900 (inclusive) are NOT in\n",
    "the list of summed prime pairs. The numpy function setdiff1d() returns\n",
    "any elements in the first array that are not also in the second array\n",
    "\"\"\"\n",
    "\n",
    "violations = np.setdiff1d(range(6, 902, 2), summed_pairs)\n",
    "\n",
    "print(f\"Number of Goldbach violations up to 900: {len(violations)}\")\n",
    "if len(violations > 0):\n",
    "    print(violations)"
   ]
  }
 ],
 "metadata": {
  "kernelspec": {
   "display_name": "base",
   "language": "python",
   "name": "python3"
  },
  "language_info": {
   "codemirror_mode": {
    "name": "ipython",
    "version": 3
   },
   "file_extension": ".py",
   "mimetype": "text/x-python",
   "name": "python",
   "nbconvert_exporter": "python",
   "pygments_lexer": "ipython3",
   "version": "3.10.13"
  }
 },
 "nbformat": 4,
 "nbformat_minor": 2
}
