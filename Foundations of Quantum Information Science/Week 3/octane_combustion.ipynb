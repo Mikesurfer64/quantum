{
 "cells": [
  {
   "cell_type": "markdown",
   "id": "52f22697",
   "metadata": {},
   "source": [
    "We want to verify that the equation is $2C_8H_{18} + 25O_2 --> 16CO_2 + 18H_2O$ is balanced for the reaction representing the burning of unleaded gasoline. "
   ]
  },
  {
   "cell_type": "code",
   "execution_count": null,
   "id": "ff650f6c",
   "metadata": {
    "scrolled": true
   },
   "outputs": [
    {
     "name": "stdout",
     "output_type": "stream",
     "text": [
      "x0 x1 x2 x3\n",
      "Equation #1\n",
      "x0 = 2\n",
      "x1 = 25\n",
      "x2 = 16\n",
      "x3 = 18\n"
     ]
    }
   ],
   "source": [
    "\"\"\"octane_combustion.ipynb\"\"\"\n",
    "\n",
    "# Reference: https://en.wikipedia.org/wiki/Gasoline\n",
    "\n",
    "# Reference: Dr. Biersach py file for conversion\n",
    "\n",
    "# 2C_8H_18 + 25O_2 ---> 16CO_2 + 18H_2O is the balanced equation from Wiki \n",
    "\n",
    "# Let's verify their result using the algorithm by supposing we do not know the coefficients above i.e. we have the reaction:\n",
    "\n",
    "# x0 * C_8H_18 + x1 * O_2 ---> x2 * CO_2 + x3 * H_2O\n",
    "\n",
    "# Cell 01\n",
    "\n",
    "import pulp  # Python Linear Programming package\n",
    "\n",
    "x0 = pulp.LpVariable(name=\"x0\", lowBound=1, cat=\"Integer\")  # C_8H_18 \n",
    "x1 = pulp.LpVariable(name=\"x1\", lowBound=1, cat=\"Integer\")  # O_2\n",
    "x2 = pulp.LpVariable(name=\"x2\", lowBound=1, cat=\"Integer\")  # CO_2\n",
    "x3 = pulp.LpVariable(name=\"x3\", lowBound=1, cat=\"Integer\")  # H_2O\n",
    "\n",
    "print(x0, x1, x2, x3)\n",
    "\n",
    "prob = pulp.LpProblem(sense=pulp.LpMinimize)\n",
    "prob.name = \"Equation #1\"\n",
    "\n",
    "prob += 8 * x0 == 1 * x2  # Carbon (C)\n",
    "prob += 18 * x0 == 2 * x3  # Hydrogen (H)\n",
    "prob += 2 * x1 == 2 * x2 + 1 * x3  # Oxygen (O)\n",
    "prob += pulp.lpSum([x0, x1, x2, x3])\n",
    "\n",
    "prob\n",
    "\n",
    "prob.solve(pulp.PULP_CBC_CMD(msg=0))\n",
    "print(prob.name)\n",
    "print(f\"x0 = {pulp.value(x0):n}\")\n",
    "print(f\"x1 = {pulp.value(x1):n}\")\n",
    "print(f\"x2 = {pulp.value(x2):n}\")\n",
    "print(f\"x3 = {pulp.value(x3):n}\")"
   ]
  },
  {
   "cell_type": "markdown",
   "id": "edff438c-a381-40bc-8e9a-3d23aaa396a3",
   "metadata": {},
   "source": [
    "The resulting equation is $2C_8H_{18} + 25O_2 --> 16CO_2 + 18H_2O$ is balanced."
   ]
  }
 ],
 "metadata": {
  "kernelspec": {
   "display_name": "Python [conda env:base] *",
   "language": "python",
   "name": "conda-base-py"
  },
  "language_info": {
   "codemirror_mode": {
    "name": "ipython",
    "version": 3
   },
   "file_extension": ".py",
   "mimetype": "text/x-python",
   "name": "python",
   "nbconvert_exporter": "python",
   "pygments_lexer": "ipython3",
   "version": "3.12.7"
  }
 },
 "nbformat": 4,
 "nbformat_minor": 5
}
